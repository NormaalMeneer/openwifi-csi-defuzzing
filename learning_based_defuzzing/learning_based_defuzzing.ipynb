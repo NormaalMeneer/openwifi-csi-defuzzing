{
 "cells": [
  {
   "cell_type": "code",
   "execution_count": 1,
   "metadata": {},
   "outputs": [],
   "source": [
    "import numpy as np\n",
    "import matplotlib.pyplot as plt\n",
    "import random\n",
    "\n",
    "# Imports for the openwifi self cap files\n",
    "from csi_processing_tools.openwifi.plot_csi import plot, plot_single, read_from_file\n",
    "\n",
    "# Imports for the ath9k cap files\n",
    "from csi_processing_tools.ath9k import plotter, reader"
   ]
  },
  {
   "cell_type": "code",
   "execution_count": 2,
   "metadata": {},
   "outputs": [],
   "source": [
    "def normalize(csi_packets, debug=False):\n",
    "    normalized = list()\n",
    "    for csi_matrix in csi_packets:\n",
    "        norm = (csi_matrix[2:-2]) / np.sqrt((np.sum(np.abs(csi_matrix[2:-2])**2)))\n",
    "        if debug == True:\n",
    "            print(np.min(norm))\n",
    "        if not np.isnan(np.min(norm)):\n",
    "            normalized.append(norm)\n",
    "    return normalized"
   ]
  },
  {
   "cell_type": "code",
   "execution_count": null,
   "metadata": {},
   "outputs": [],
   "source": [
    "## Generating a learning data set\n",
    "base_path = \"csi_captures/training/\"\n",
    "\n",
    "# Reading the openwifi selfcap files\n",
    "openwifi_path = base_path + \"/openwifi/\"\n",
    "fuzzed_openwifi = list()\n",
    "fuzzed_openwifi.append(normalize(read_from_file(openwifi_path + \"fuzzed_0_-20_0_20.txt\",filter_value=300)))\n",
    "fuzzed_openwifi.append(normalize(read_from_file(openwifi_path + \"fuzzed_0_7_1_-33.txt\",filter_value=300)))\n",
    "unfuzzed_openwifi = normalize(read_from_file(openwifi_path + \"unfuzzed.txt\",filter_value=300))\n",
    "\n",
    "# Reading the ath9k cap files\n",
    "ath9k_path = base_path + \"/ath9k/\"\n",
    "fuzzed_ath9k = list()\n",
    "fuzzed_ath9k.append(normalize(reader.read_csi_file(ath9k_path + \"0_-20_0_-20_fuzzed.dat\")[20:]))\n",
    "fuzzed_ath9k.append(normalize(reader.read_csi_file(ath9k_path + \"1_-15_0_23_fuzzed.dat\")[20:]))\n",
    "unfuzzed_ath9k = normalize(reader.read_csi_file(ath9k_path + \"unfuzzed.dat\"))\n"
   ]
  },
  {
   "cell_type": "code",
   "execution_count": 7,
   "metadata": {},
   "outputs": [],
   "source": [
    "## Generate a validation data set\n",
    "base_path = \"csi_captures/validation\"\n",
    "\n",
    "# Reading the openwifi selfcap files\n",
    "openwifi_path = base_path + \"/openwifi/\"\n",
    "fuzzed_openwifi_validation = list()\n",
    "fuzzed_openwifi_validation.append(normalize(read_from_file(openwifi_path + \"openwifi_0_-20_0_20.txt\",filter_value=300)))\n",
    "fuzzed_openwifi_validation.append(normalize(read_from_file(openwifi_path + \"openwifi_0_7_1_-33.txt\",filter_value=300)))\n",
    "unfuzzed_openwifi_validation = normalize(read_from_file(openwifi_path + \"openwifi_unfuzzed.txt\",filter_value=300))\n",
    "\n",
    "# Reading the ath9k cap files\n",
    "ath9k_path = base_path + \"/ath9k/\"\n",
    "fuzzed_ath9k_validation = list()\n",
    "fuzzed_ath9k_validation.append(normalize(reader.read_csi_file(ath9k_path + \"fuzzed_0_-20_0_-20.dat\")))\n",
    "fuzzed_ath9k_validation.append(normalize(reader.read_csi_file(ath9k_path + \"fuzzed_1_-15_0_23.dat\")))\n",
    "unfuzzed_ath9k_validation = normalize(reader.read_csi_file(ath9k_path + \"unfuzzed.dat\"))\n"
   ]
  },
  {
   "cell_type": "code",
   "execution_count": 4,
   "metadata": {},
   "outputs": [],
   "source": [
    "def NMSE(x, y):\n",
    "    numerator = np.sum(np.abs(y-x))\n",
    "    denominator = np.sum(np.abs(y))\n",
    "    return 10*np.log10(numerator/denominator)"
   ]
  },
  {
   "cell_type": "code",
   "execution_count": 36,
   "metadata": {},
   "outputs": [],
   "source": [
    "# Loop to check how defuzzing depends on the amount of packets averaged\n",
    "\n",
    "openwifi_avg_nmse = [list() for _ in range(len(fuzzed_openwifi))]\n",
    "openwifi_snr= list()\n",
    "ath9k_avg_nmse = [list() for _ in range(len(fuzzed_ath9k))]\n",
    "ath9k_snr = list()\n",
    "\n",
    "for amount in range(1,50):\n",
    "\n",
    "    # Average certain amount of packages to be used for divsion\n",
    "    openwifi_unfuzzed_total = np.zeros(52, dtype='complex128')\n",
    "    openwifi_fuzzed_total = np.array([np.zeros(52, dtype='complex128')] * len(fuzzed_openwifi))\n",
    "    openwifi_unfuzzed_validation_total = np.zeros(52, dtype='complex128')\n",
    "    \n",
    "    ath9k_unfuzzed_total = np.zeros(52, dtype='complex128')\n",
    "    ath9k_fuzzed_total = np.array([np.zeros(52, dtype='complex128')] * len(fuzzed_ath9k))\n",
    "    ath9k_unfuzzed_validation_total = np.zeros(52, dtype='complex128')\n",
    "    # Sum up # of packets\n",
    "    for index in range(0, amount):\n",
    "        openwifi_unfuzzed_total += unfuzzed_openwifi[random.randint(0,len(unfuzzed_openwifi)-1)]\n",
    "        openwifi_unfuzzed_validation_total += unfuzzed_openwifi_validation[random.randint(0,len(unfuzzed_openwifi_validation)-1)]\n",
    "        # Add packet to current total for every openwifi CSI file\n",
    "        for item in range(0,len(fuzzed_openwifi)):\n",
    "            openwifi_fuzzed_total[item] += fuzzed_openwifi[item][random.randint(0,len(fuzzed_openwifi[item])-1)]\n",
    "        \n",
    "        ath9k_unfuzzed_total += unfuzzed_ath9k[random.randint(0,len(unfuzzed_ath9k)-1)]\n",
    "        ath9k_unfuzzed_validation_total += unfuzzed_ath9k_validation[random.randint(0,len(unfuzzed_ath9k_validation)-1)]\n",
    "        # Add packet to current total for every openwifi CSI file\n",
    "        for item in range(0,len(fuzzed_ath9k)):\n",
    "            ath9k_fuzzed_total[item] += fuzzed_ath9k[item][random.randint(0,len(fuzzed_ath9k[item])-1)]\n",
    "\n",
    "\n",
    "    # Calculate the averages for the openwifi CSI\n",
    "    openwifi_unfuzzed_avg = openwifi_unfuzzed_total/amount\n",
    "    openwifi_unfuzzed_validation_avg = openwifi_unfuzzed_validation_total/amount\n",
    "    openwifi_defuzzing_patterns = list()\n",
    "    for total in openwifi_fuzzed_total:\n",
    "        avg = np.array(total)/amount\n",
    "        openwifi_defuzzing_patterns.append(avg/openwifi_unfuzzed_avg)\n",
    "    \n",
    "\n",
    "    # Calculate the averages for the ath9k CSI\n",
    "    ath9k_unfuzzed_avg = np.array(ath9k_unfuzzed_total)/amount\n",
    "    ath9k_unfuzzed_validation_avg = ath9k_unfuzzed_validation_total/amount\n",
    "    ath9k_defuzzing_patterns = list()\n",
    "    for total in ath9k_fuzzed_total:\n",
    "        avg = np.array(total)/amount\n",
    "        ath9k_defuzzing_patterns.append(avg/ath9k_unfuzzed_avg)\n",
    "\n",
    "\n",
    "\n",
    "    n = 100\n",
    "\n",
    "    # Calculate base line snr to compare defuzzing results\n",
    "    \n",
    "    openwifi_standard_error = list()\n",
    "    temp = list(np.random.permutation(np.arange(0,min([len(x) for x in unfuzzed_openwifi_validation])))[:n])\n",
    "    for index in temp:\n",
    "        openwifi_standard_error.append(NMSE(unfuzzed_openwifi_validation[index],openwifi_unfuzzed_validation_avg))\n",
    "    openwifi_snr.append(np.mean(openwifi_standard_error))\n",
    "\n",
    "\n",
    "    ath9k_standard_error = list()\n",
    "    temp = list(np.random.permutation(np.arange(0,min([len(x) for x in unfuzzed_ath9k_validation])))[:n])\n",
    "    for index in temp:\n",
    "        ath9k_standard_error.append(NMSE(unfuzzed_ath9k_validation[index],ath9k_unfuzzed_validation_avg))\n",
    "    ath9k_snr.append(np.mean(ath9k_standard_error))\n",
    "\n",
    "\n",
    "    # Chose some random fuzzed packets to unfuzz\n",
    "    openwifi_indices = list(np.random.permutation(np.arange(0,min([len(x) for x in fuzzed_openwifi_validation])))[:n])\n",
    "    ath9k_indices = list(np.random.permutation(np.arange(0,min([len(x) for x in fuzzed_ath9k])))[:n])\n",
    "\n",
    "\n",
    "    # Defuzz the pattern and calculate the NMSE (openwifi CSI)\n",
    "    # Save the average of 100 defuzzings\n",
    "    for i,csi_matrix in enumerate(fuzzed_openwifi_validation):\n",
    "        temp = list()\n",
    "        for index in openwifi_indices:\n",
    "            temp.append(NMSE(csi_matrix[index][2:-2]/openwifi_defuzzing_patterns[i][2:-2],openwifi_unfuzzed_validation_avg[2:-2]))\n",
    "        openwifi_avg_nmse[i].append(np.mean(temp))\n",
    "\n",
    "\n",
    "    # Defuzz the pattern and calculate the NMSE (ath9k CSI)\n",
    "    for i,csi_matrix in enumerate(fuzzed_ath9k_validation):\n",
    "        temp = list()\n",
    "        for index in ath9k_indices:\n",
    "            temp.append(NMSE(csi_matrix[index]/ath9k_defuzzing_patterns[i],ath9k_unfuzzed_validation_avg))\n",
    "        ath9k_avg_nmse[i].append(np.mean(temp))\n",
    "\n"
   ]
  },
  {
   "cell_type": "code",
   "execution_count": null,
   "metadata": {},
   "outputs": [],
   "source": [
    "defuzzed = fuzzed_openwifi_validation[0][1]/openwifi_defuzzing_patterns[0]\n",
    "plt.plot(np.abs(defuzzed))\n",
    "plt.plot(np.abs(openwifi_unfuzzed_validation_avg))\n",
    "plt.xlabel(\"subcarrier idx\")\n",
    "plt.ylabel(\"normalised amplitude\")\n",
    "plt.legend([\"defuzzed\",\"validation\"])\n",
    "plt.show()\n",
    "\n"
   ]
  },
  {
   "cell_type": "code",
   "execution_count": null,
   "metadata": {},
   "outputs": [],
   "source": [
    "for i in range(0,10):\n",
    "    defuzzed = unfuzzed_ath9k_validation[i]\n",
    "    plt.plot(defuzzed)\n",
    "    plt.plot(np.abs(ath9k_unfuzzed_validation_avg))\n",
    "    plt.xlabel(\"subcarrier idx\")\n",
    "    plt.ylabel(\"normalised amplitude\")\n",
    "    plt.legend([\"defuzzed\",\"validation\"])\n",
    "    plt.show()"
   ]
  },
  {
   "cell_type": "code",
   "execution_count": 11,
   "metadata": {},
   "outputs": [],
   "source": [
    "openwifi_snr = np.array(openwifi_snr) - 0.5"
   ]
  },
  {
   "cell_type": "code",
   "execution_count": 20,
   "metadata": {},
   "outputs": [],
   "source": [
    "def plot_nmse(nmse_array,legend, style='solid'):\n",
    "    plt.plot(nmse_array, linestyle=style)\n",
    "    plt.title(\"Error for # packets averaged\")\n",
    "    plt.ylabel(\"Error/avg amplitude (dB)\")\n",
    "    plt.xlabel(\"# packets averaged\")\n",
    "    plt.legend(legend)\n",
    "    "
   ]
  },
  {
   "cell_type": "code",
   "execution_count": 18,
   "metadata": {},
   "outputs": [],
   "source": [
    "unnormalised = list()\n",
    "for index, elem in enumerate(openwifi_avg_nmse[0]):\n",
    "    unnormalised.append(elem - openwifi_avg_nmse[1][index] - 12.5)"
   ]
  },
  {
   "cell_type": "code",
   "execution_count": null,
   "metadata": {},
   "outputs": [],
   "source": [
    "# Plot the NMSE of the different openwifi CSI files\n",
    "for file in openwifi_avg_nmse:\n",
    "    plot_nmse(file,[\"openwifi_0_-20_0_20\",\"openwifi_0_7_1_-33\"])\n",
    "plot_nmse(openwifi_snr,[\"openwifi_0_-20_0_20\",\"openwifi_0_7_1_-33\",\"baseline_error\"])\n",
    "plot_nmse(unnormalised,[\"openwifi_0_-20_0_20\",\"openwifi_0_7_1_-33\",\"baseline_error\",\"unnormalised\"],'dotted')"
   ]
  },
  {
   "cell_type": "code",
   "execution_count": 78,
   "metadata": {},
   "outputs": [],
   "source": [
    "unnormalised2 = list()\n",
    "for index, elem in enumerate(ath9k_avg_nmse[0]):\n",
    "    unnormalised2.append( elem - ath9k_avg_nmse[1][index])"
   ]
  },
  {
   "cell_type": "code",
   "execution_count": null,
   "metadata": {},
   "outputs": [],
   "source": [
    "# Plot the NMSE of the different Ath9k CSI files\n",
    "for file in ath9k_avg_nmse:\n",
    "    plot_nmse(file, [\"ath9k_0_-20_0_-20\",\"ath9k_1_-15_0_23\"])\n",
    "plot_nmse(ath9k_snr,[\"openwifi_0_-20_0_20\",\"openwifi_0_7_1_-33\",\"baseline_error\"])\n",
    "plot_nmse(unnormalised2,[\"openwifi_0_-20_0_20\",\"openwifi_0_7_1_-33\",\"baseline_error\",\"unnormalised\"],style=\"dotted\")\n"
   ]
  }
 ],
 "metadata": {
  "interpreter": {
   "hash": "37a19c30ba92da8ff7b6aa1e3f898a5e95595adc3da2946356fe2b4f96277171"
  },
  "kernelspec": {
   "display_name": "Python 3.9.9 64-bit",
   "language": "python",
   "name": "python3"
  },
  "language_info": {
   "codemirror_mode": {
    "name": "ipython",
    "version": 3
   },
   "file_extension": ".py",
   "mimetype": "text/x-python",
   "name": "python",
   "nbconvert_exporter": "python",
   "pygments_lexer": "ipython3",
   "version": "3.9.9"
  },
  "orig_nbformat": 4
 },
 "nbformat": 4,
 "nbformat_minor": 2
}
