{
 "cells": [
  {
   "cell_type": "code",
   "execution_count": null,
   "metadata": {},
   "outputs": [],
   "source": [
    "import commpy\n",
    "import numpy as np\n",
    "from scipy import interpolate\n",
    "import matplotlib.pyplot as plt"
   ]
  },
  {
   "cell_type": "code",
   "execution_count": null,
   "metadata": {},
   "outputs": [],
   "source": [
    "# OFDM parameters\n",
    "K = 64\n",
    "CP = K//4\n",
    "P = 32  \n",
    "pilotValue = 3+3j\n",
    "Modulation_type = 'QAM64'\n",
    "\n",
    "# Channel parameters\n",
    "channel_type ='random'\n",
    "channel_coefs =np.array([1, 0.5j, 0.3j, 0.1j])\n",
    "SNRdb = 25"
   ]
  },
  {
   "cell_type": "code",
   "execution_count": null,
   "metadata": {},
   "outputs": [],
   "source": [
    "# Set up OFDM\n",
    "allCarriers = np.arange(K)\n",
    "pilotCarrier = allCarriers[::K//P]\n",
    "pilotCarriers = np.hstack([pilotCarrier, np.array([allCarriers[-1]])])\n",
    "P = P+1 \n",
    "m_map = {\"BPSK\": 1, \"QPSK\": 2, \"8PSK\": 3, \"QAM16\": 4, \"QAM64\": 6}\n",
    "mu = m_map[Modulation_type]\n",
    "dataCarriers = np.delete(allCarriers, pilotCarriers)\n",
    "payloadBits_per_OFDM = len(dataCarriers)*mu "
   ]
  },
  {
   "cell_type": "code",
   "execution_count": null,
   "metadata": {},
   "outputs": [],
   "source": [
    "def modulate(bits):\n",
    "    QAM64 = commpy.QAMModem(64)\n",
    "    symbol = QAM64.modulate(bits)\n",
    "    return symbol\n",
    "\n",
    "def demodulate(symbol):\n",
    "    QAM64 = commpy.QAMModem(64)\n",
    "    bits = QAM64.demodulate(symbol, demod_type='hard')\n",
    "    return bits\n",
    "\n",
    "def OFDM_symbol(QAM_payload):\n",
    "    symbol = np.zeros(K, dtype=complex)  \n",
    "    symbol[pilotCarriers] = pilotValue \n",
    "    symbol[dataCarriers] = QAM_payload\n",
    "    return symbol\n",
    "\n",
    "def IDFT(OFDM_data):\n",
    "    return np.fft.ifft(np.fft.ifftshift(OFDM_data))\n",
    "\n",
    "def addCP(OFDM_time):\n",
    "    cp = OFDM_time[-CP:]\n",
    "    return np.hstack([cp, OFDM_time])\n",
    "\n",
    "def removeCP(signal):\n",
    "    return signal[CP:(CP+K)]\n",
    "\n",
    "def DFT(OFDM_RX):\n",
    "    return np.fft.fftshift(np.fft.fft(OFDM_RX))\n",
    "\n",
    "def channelEstimate(OFDM_demod):\n",
    "    pilots = OFDM_demod[pilotCarriers]\n",
    "    Hest_at_pilots = pilots / pilotValue\n",
    "    \n",
    "    Hest_abs = interpolate.interp1d(pilotCarriers, abs(\n",
    "        Hest_at_pilots), kind='linear')(allCarriers)\n",
    "    Hest_phase = interpolate.interp1d(pilotCarriers, np.angle(\n",
    "        Hest_at_pilots), kind='linear')(allCarriers)\n",
    "    Hest = Hest_abs * np.exp(1j*Hest_phase)\n",
    "    return Hest\n",
    "\n",
    "def equalize(OFDM_demod, Hest):\n",
    "    return OFDM_demod / Hest"
   ]
  },
  {
   "cell_type": "code",
   "execution_count": null,
   "metadata": {},
   "outputs": [],
   "source": [
    "# Channel effects\n",
    "def add_noise(x_s, snrDB):\n",
    "    data_pwr = np.mean(abs(x_s**2))\n",
    "    noise_pwr = data_pwr/(10**(snrDB/10))\n",
    "    noise = 1/np.sqrt(2) * (np.random.randn(len(x_s)) + 1j *\n",
    "                            np.random.randn(len(x_s))) * np.sqrt(noise_pwr)\n",
    "    return x_s + noise, noise_pwr\n",
    "\n",
    "def channel(in_signal, SNRdb):\n",
    "    out_signal = np.convolve(in_signal, channel_coefs)\n",
    "\n",
    "    return out_signal"
   ]
  },
  {
   "cell_type": "code",
   "execution_count": null,
   "metadata": {},
   "outputs": [],
   "source": [
    "def fuzzing(in_signal, c1_raw, c1_rot, c2_raw, c2_rot):\n",
    "    if c1_rot == 0:\n",
    "        c1 = c1_raw/128\n",
    "    else:\n",
    "        c1 = complex(0,c1_raw/128)\n",
    "\n",
    "    if c2_rot == 0:\n",
    "        c2 = c2_raw/128\n",
    "    else:\n",
    "        c2 = complex(0,c2_raw/128)\n",
    "\n",
    "    fuzzing = np.array([1,c1,c2])\n",
    "    out_signal = np.convolve(in_signal, fuzzing)\n",
    "    return out_signal"
   ]
  },
  {
   "cell_type": "code",
   "execution_count": null,
   "metadata": {},
   "outputs": [],
   "source": [
    "def csi_plot(array, title, legend):\n",
    "    fig, axs = plt.subplots(2, figsize=(12.8,9.6))\n",
    "    fig.suptitle('CSI ' + title)\n",
    "    x_amp = np.arange(K)\n",
    "    x_pha = np.arange(K)\n",
    "    for CSI in array:\n",
    "        axs[0].plot(x_amp, np.abs(CSI))\n",
    "        axs[1].plot(x_pha, np.angle(CSI,deg=False))\n",
    "    plt.legend(legend)\n",
    "    plt.show()"
   ]
  },
  {
   "cell_type": "code",
   "execution_count": null,
   "metadata": {},
   "outputs": [],
   "source": [
    "# Simulation control parameters\n",
    "enable_fuzzing = True\n",
    "enable_channel = False\n",
    "enable_noise = False"
   ]
  },
  {
   "cell_type": "code",
   "execution_count": null,
   "metadata": {},
   "outputs": [],
   "source": [
    "### Transmit ###\n",
    "\n",
    "# Generate some random bits to be send\n",
    "bits = np.random.binomial(n=1, p=0.5, size=(payloadBits_per_OFDM, ))\n",
    "    \n",
    "# Modulate the bits into OFDM symbols\n",
    "QAM_s = modulate(bits)\n",
    "OFDM_data = OFDM_symbol(QAM_s)\n",
    "    \n",
    "# Tranform symbols to time domain and add cyclic prefix\n",
    "OFDM_time = IDFT(OFDM_data)\n",
    "OFDM_withCP = addCP(OFDM_time)\n",
    "\n",
    "\n",
    "if enable_fuzzing == True:\n",
    "    # Apply fuzzing\n",
    "    OFDM_fuzzed = fuzzing(OFDM_withCP,-20,0,-20,0)\n",
    "    OFDM_TX = OFDM_fuzzed\n",
    "else:\n",
    "    OFDM_TX = OFDM_withCP"
   ]
  },
  {
   "cell_type": "code",
   "execution_count": null,
   "metadata": {},
   "outputs": [],
   "source": [
    "### Channel effects ###\n",
    "if enable_channel == True:\n",
    "    OFDM_RX = channel(OFDM_TX, SNRdb)\n",
    "else:\n",
    "    OFDM_RX = OFDM_TX\n",
    "\n",
    "if enable_noise == True:\n",
    "    OFDM_RX = add_noise(OFDM_RX,SNRdb)[0]"
   ]
  },
  {
   "cell_type": "code",
   "execution_count": null,
   "metadata": {},
   "outputs": [],
   "source": [
    "\n",
    "### Receiver ###\n",
    "\n",
    "# Remove cp and transform to frequency domain\n",
    "OFDM_RX_noCP = removeCP(OFDM_RX)\n",
    "OFDM_demod = DFT(OFDM_RX_noCP)\n",
    "    \n",
    "# Perform channel state estimation\n",
    "CSI = channelEstimate(OFDM_demod)\n",
    "      \n",
    "# Calculate the defuzzed_csi, to be used for equalisation\n",
    "unfuzzed_csi = channelEstimate(DFT(removeCP(channel(OFDM_withCP, SNRdb))))\n",
    "fft = np.fft.fftshift(np.fft.fft([1,-20/128,-20/128],64))\n",
    "\n",
    "if enable_fuzzing == True:\n",
    "    defuzzed_csi = CSI/fft\n",
    "else:\n",
    "    defuzzed_csi = CSI\n",
    "\n",
    "# Equalize and retrieve data\n",
    "equalized_Hest = equalize(OFDM_demod, defuzzed_csi)\n",
    "QAM_est = equalized_Hest[dataCarriers]\n",
    "    \n",
    "# Retrieve the original bits\n",
    "bits_est = demodulate(QAM_est)"
   ]
  },
  {
   "cell_type": "code",
   "execution_count": null,
   "metadata": {},
   "outputs": [],
   "source": [
    "# Plot the CSI, and the defuzzed CSI\n",
    "csi_plot([CSI,fft], \"comparison\",[\"measured\",\"predicted\"])\n",
    "csi_plot([defuzzed_csi,unfuzzed_csi],\"defuzzed\",[\"defuzzed\",\"unfuzzed\"])"
   ]
  }
 ],
 "metadata": {
  "language_info": {
   "name": "python"
  }
 },
 "nbformat": 4,
 "nbformat_minor": 2
}
